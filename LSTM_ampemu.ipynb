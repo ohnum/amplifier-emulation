{
  "nbformat": 4,
  "nbformat_minor": 0,
  "metadata": {
    "colab": {
      "name": "jonas_guitar_amp_emulation_LSTM.ipynb",
      "provenance": [],
      "collapsed_sections": []
    },
    "kernelspec": {
      "name": "python3",
      "display_name": "Python 3"
    },
    "accelerator": "GPU"
  },
  "cells": [
    {
      "cell_type": "code",
      "metadata": {
        "id": "5KgOuDdObC8n",
        "colab_type": "code",
        "colab": {}
      },
      "source": [
        "!pip install soundfile\n",
        "!pip install torchaudio\n",
        "import torch, torchaudio\n",
        "import torch.nn as nn\n",
        "import torch.optim as optim\n",
        "from torch.autograd import Variable\n",
        "from torch.utils.data import TensorDataset, DataLoader\n",
        "from torchaudio.functional import lfilter\n",
        "import numpy as np\n",
        "import matplotlib.pyplot as plt\n",
        "import scipy as sp\n",
        "from scipy.io import loadmat\n",
        "from scipy.signal import butter\n",
        "import soundfile as sf\n",
        "import matplotlib.pyplot as plt\n",
        "\n",
        "from google.colab import drive\n",
        "drive.mount('/content/drive')"
      ],
      "execution_count": 0,
      "outputs": []
    },
    {
      "cell_type": "code",
      "metadata": {
        "id": "fmPN9N8WbIRZ",
        "colab_type": "code",
        "colab": {}
      },
      "source": [
        "# Define some functions\n",
        "\n",
        "# This function applies a high-pass filter to the signal\n",
        "def pre_filter(data, cutoff):\n",
        "    b, a = butter(1, cutoff, 'highpass')\n",
        "    b = torch.Tensor(b).to(device)\n",
        "    a = torch.Tensor(a).to(device)\n",
        "    filtered = lfilter(data, a, b)\n",
        "    return filtered\n",
        "\n",
        "# Calculates the error-to-signal ratio for the loss function\n",
        "def esr_loss(output, target):\n",
        "    co = 0.95\n",
        "    tf = pre_filter(target, co)\n",
        "    of = pre_filter(output, co)\n",
        "    nom = torch.sum((tf - of)**2)\n",
        "    denom = torch.sum(tf**2)\n",
        "    esr = nom/denom\n",
        "    return esr\n",
        "\n",
        "# Calculates the DC component of the signal for the loss function\n",
        "def dc_loss(output, target):\n",
        "    N = output.size(0)\n",
        "    nom = (torch.sum((target - output))/N)**2\n",
        "    denom = torch.sum(target**2)/N\n",
        "    dc = nom/denom\n",
        "    return dc\n",
        "\n",
        "def reshape_data(data, seg_size, mb_size):\n",
        "    # input: data sequence [x, 1], segment size int, mini_bacth size int\n",
        "    segments = int(data.shape[0]/seg_size)\n",
        "    segments -= segments%mb_size\n",
        "    end = segments*seg_size\n",
        "    reshaped = data[:end, 0].reshape(segments, seg_size, 1).float()\n",
        "\n",
        "    return reshaped\n",
        "\n",
        "def get_data(path):\n",
        "    train = sp.io.loadmat(path + 'trainingMesa550Disto_Gain5.mat')['train']\n",
        "    test = sp.io.loadmat(path + 'testMesa550Disto_Gain5.mat')['test']\n",
        "\n",
        "    input = torch.from_numpy(train[:,0]).reshape(-1,1).float()\n",
        "    target = torch.from_numpy(train[:,1]).reshape(-1,1).float()\n",
        "    test_input = torch.from_numpy(test[:,0]).reshape(-1,1).float()\n",
        "    test_target = torch.from_numpy(test[:,1]).reshape(-1,1).float()\n",
        "\n",
        "    return input, target, test_input, test_target\n",
        "\n",
        "\n",
        "class RNN(nn.Module):\n",
        "    def __init__(self, input_size, hidden_size, num_layers):\n",
        "        super(RNN, self).__init__()\n",
        "        self.hidden_size = hidden_size\n",
        "        self.num_layers = num_layers\n",
        "        self.lstm = nn.LSTM(input_size, self.hidden_size, self.num_layers, dropout=0.5, batch_first=True)\n",
        "        #self.lstm = nn.LSTM(input_size, self.hidden_size, self.num_layers, dropout=0.2)\n",
        "        self.linear = nn.Linear(hidden_size, 1)\n",
        "\n",
        "    def forward(self, x):\n",
        "        #print(x.shape)\n",
        "        hn = Variable(torch.zeros(self.num_layers, x.size(0), self.hidden_size).float()).to(device)\n",
        "        cn = Variable(torch.zeros(self.num_layers, x.size(0), self.hidden_size).float()).to(device)\n",
        "        # hn = Variable(torch.zeros(self.num_layers, x.size(1), self.hidden_size).float()).to(device)\n",
        "        # cn = Variable(torch.zeros(self.num_layers, x.size(1), self.hidden_size).float()).to(device)\n",
        "        out, (hn, cn) = self.lstm(x, (hn,cn))\n",
        "        out = self.linear(out)\n",
        "        return out"
      ],
      "execution_count": 0,
      "outputs": []
    },
    {
      "cell_type": "code",
      "metadata": {
        "id": "65odfm8GbI8m",
        "colab_type": "code",
        "colab": {}
      },
      "source": [
        "# some info about the sound dataset\n",
        "sample_rate = 44100\n",
        "\n",
        "# Check if CUDA enbaled GPU is available\n",
        "device = torch.device('cuda' if torch.cuda.is_available() else 'cpu')\n",
        "\n",
        "# set random seed to 0\n",
        "np.random.seed(0)\n",
        "torch.manual_seed(0)\n",
        "\n",
        "# build the model\n",
        "hidden_size = 32\n",
        "num_layers = 2\n",
        "model = RNN(1, hidden_size, num_layers)\n",
        "model.float()\n",
        "model.to(device)\n",
        "criterion = nn.MSELoss()\n",
        "\n",
        "# load data\n",
        "path = './drive/My Drive/data/'\n",
        "seq_length = 4000\n",
        "batchsize = 40 # each batch is roughly 100 ms\n",
        "train_seq, train_target_seq, test_seq, test_target_seq = get_data(path)\n",
        "input = reshape_data(train_seq, seq_length, batchsize)\n",
        "target = reshape_data(train_target_seq, seq_length, batchsize)\n",
        "test_input = reshape_data(test_seq, seq_length, batchsize)\n",
        "test_target = reshape_data(test_target_seq, seq_length, batchsize)\n",
        "print(f'All data in batches of {seq_length}:', input.shape)\n",
        "\n",
        "train_ds = TensorDataset(input, target) # setup a training dataset\n",
        "test_ds = TensorDataset(test_input, test_target) # create a test dataset\n",
        "\n",
        "# use ADAM as optimizer\n",
        "optimizer = optim.Adam(model.parameters(), lr=5e-4)\n",
        "\n",
        "# Just check that CUDA works properly\n",
        "print('cuda_model=', next(model.parameters()).is_cuda)\n",
        "print('cuda_input=', input.is_cuda)\n"
      ],
      "execution_count": 0,
      "outputs": []
    },
    {
      "cell_type": "code",
      "metadata": {
        "id": "pRr9HCMc7VrI",
        "colab_type": "code",
        "colab": {}
      },
      "source": [
        "# setup some arrays to store info on training and validation error\n",
        "train_error = []\n",
        "valid_error = []"
      ],
      "execution_count": 0,
      "outputs": []
    },
    {
      "cell_type": "code",
      "metadata": {
        "id": "bzCzZhf_bLJt",
        "colab_type": "code",
        "colab": {}
      },
      "source": [
        "#begin to train\n",
        "epochs = 1000\n",
        "for epoch in range(epochs):\n",
        "    # Create a data loader for each new epoch with shuffled data\n",
        "    train_dl = DataLoader(train_ds, batch_size=batchsize, num_workers=2, shuffle=True)\n",
        "    print(f'EPOCH {epoch}')\n",
        "\n",
        "    model.train()\n",
        "    for i, (xb, yb) in enumerate(train_dl):\n",
        "\n",
        "        # xb = xb.reshape(seq_length, batchsize, 1)\n",
        "        # yb = yb.reshape(seq_length, batchsize, 1)\n",
        "        xb, yb = xb.to(device), yb.to(device)\n",
        "        #print('xb', xb.shape)\n",
        "\n",
        "        def closure():\n",
        "            optimizer.zero_grad()\n",
        "            pred = model(xb)\n",
        "            #print('pred', pred.shape)\n",
        "            #loss = criterion(pred[:,-1,0], yb[:,-1,0])\n",
        "            loss = criterion(pred, yb)\n",
        "            #loss = esr_loss(pred[:,-1,0], yb[:,-1,0]) + dc_loss(pred[:,-1,0], yb[:,-1,0])\n",
        "            #loss = esr_loss(pred, yb) + dc_loss(pred, yb)\n",
        "            train_error.append(loss.item())\n",
        "            if i%10 == 0:\n",
        "                print(f'training loss[{i}]:{loss.item()}')\n",
        "            loss.backward()\n",
        "            return loss\n",
        "        optimizer.step(closure)\n",
        "\n",
        "\n",
        "    model.eval()\n",
        "    with torch.no_grad():\n",
        "        if epoch%1 == 0:\n",
        "          batch_start = np.random.randint(0, test_input.size(0)-batchsize)\n",
        "          batch_end = batch_start + batchsize\n",
        "          y_test_input, y_test_target = test_input[batch_start:batch_end], test_target[batch_start:batch_end]\n",
        "          #y_test_input, y_test_target = y_test_input.reshape(seq_length, batchsize, 1), y_test_target.reshape(seq_length, batchsize, 1)\n",
        "          y_test_input, y_test_target = y_test_input.to(device), y_test_target.to(device)\n",
        "          pred = model(y_test_input)\n",
        "          #loss = criterion(pred[:,-1,0], y_test_target[:,-1,0])\n",
        "          loss = criterion(pred, y_test_target)\n",
        "          #loss = esr_loss(pred, y_test_target) + dc_loss(pred, y_test_target)\n",
        "          #loss = esr_loss(pred[:,-1,0], y_test_target[:,-1,0]) + dc_loss(pred[:,-1,0], y_test_target[:,-1,0])\n",
        "          valid_error.append(loss.item())\n",
        "          print('validation loss:', loss.item())"
      ],
      "execution_count": 0,
      "outputs": []
    },
    {
      "cell_type": "code",
      "metadata": {
        "id": "6necQLbkFrPE",
        "colab_type": "code",
        "colab": {}
      },
      "source": [
        "#output a prediction of the signal at the current training level\n",
        "start = 0 #seconds\n",
        "stop = 10 #seconds\n",
        "sample = test_seq[start*sample_rate:stop*sample_rate].reshape(1,sample_rate*stop,1)\n",
        "model.eval()\n",
        "pred = model(sample.to(device))\n",
        "y = pred.cpu().detach().numpy()\n",
        "sf.write(path+f'out{len(valid_error)}_ESR.wav', y[0,:,0], sample_rate, 'PCM_24')\n",
        "\n",
        "sample_target = test_target_seq[start*sample_rate:stop*sample_rate].reshape(1, sample_rate*stop,1)\n",
        "#sf.write(path+f'target_Mesa550Disto_Gain5.wav', sample_target[0,:,0], sample_rate, 'PCM_24')\n",
        "\n",
        "raw_input = test_seq[start*sample_rate:stop*sample_rate].reshape(1, sample_rate*stop,1)\n",
        "#sf.write(path+f'raw_input.wav', raw_input[0,:,0], sample_rate, 'PCM_24')"
      ],
      "execution_count": 0,
      "outputs": []
    },
    {
      "cell_type": "code",
      "metadata": {
        "id": "iWYrqP67ueB8",
        "colab_type": "code",
        "colab": {
          "base_uri": "https://localhost:8080/",
          "height": 299
        },
        "outputId": "ffaf1beb-6148-4093-c178-9d15fe0d0a37"
      },
      "source": [
        "# Create som plots\n",
        "fig, ax = plt.subplots(1,1)\n",
        "stride = int(len(train_error)/len(valid_error))\n",
        "tick = [-1]\n",
        "\n",
        "ax.plot(np.log10(train_error), label='Training loss')\n",
        "#ax.plot(train_error, label='Training loss')\n",
        "for i in range(len(valid_error)):\n",
        "  x = i*stride\n",
        "  y = np.log10(valid_error[i])\n",
        "  #y = valid_error[i]\n",
        "  ax.scatter(x, y, marker='.', color='black')\n",
        "ax.scatter(x, y, marker='.', color='black', label='Validation loss')\n",
        "\n",
        "locs, _ = plt.xticks()\n",
        "for i in range(1, len(locs)):\n",
        "  loc = locs[i]\n",
        "  tick.append(int(loc/len(train_error)*len(valid_error)))\n",
        "\n",
        "ax.set_xticklabels(tick)\n",
        "ax.set_xlabel('Epoch')\n",
        "ax.set_ylabel(r'log10(ESR loss)')\n",
        "#ax.set_ylabel(r'MSE loss')\n",
        "plt.legend()\n",
        "#plt.savefig(path+'loss_over_time_MSE.png', dpi=120)"
      ],
      "execution_count": 9,
      "outputs": [
        {
          "output_type": "execute_result",
          "data": {
            "text/plain": [
              "<matplotlib.legend.Legend at 0x7f6f903a2e10>"
            ]
          },
          "metadata": {
            "tags": []
          },
          "execution_count": 9
        },
        {
          "output_type": "display_data",
          "data": {
            "image/png": "[encoded data removed]",
            "text/plain": [
              "<Figure size 432x288 with 1 Axes>"
            ]
          },
          "metadata": {
            "tags": [],
            "needs_background": "light"
          }
        }
      ]
    },
    {
      "cell_type": "code",
      "metadata": {
        "id": "4TaWPO-b9JhD",
        "colab_type": "code",
        "colab": {
          "base_uri": "https://localhost:8080/",
          "height": 296
        },
        "outputId": "ec469793-24e4-470d-cb60-55894cce66bd"
      },
      "source": [
        "# Setup some time information to select from \n",
        "t_start = 0.00\n",
        "t_stop = 0.005\n",
        "start = int(t_start*sample_rate) #seconds\n",
        "stop = int(t_stop*sample_rate) #seconds\n",
        "\n",
        "# Get a prediction from the model\n",
        "sample_input = test_seq[start:stop].reshape(1, stop-start,1).to(device)\n",
        "model.eval()\n",
        "pred = model(sample_input).cpu().detach().numpy()\n",
        "y_model = pred[0,:,0]\n",
        "\n",
        "# Get the target sequence\n",
        "sample_target = test_target_seq[start:stop].reshape(1, stop-start,1)\n",
        "y_target = sample_target.cpu().detach().numpy()[0,:,0]\n",
        "\n",
        "t = np.linspace(t_start,t_stop, stop-start)\n",
        "plt.plot(t, y_model, label='Model')\n",
        "plt.plot(t, y_target, label='Target')\n",
        "plt.xlabel('Time [s]')\n",
        "plt.ylabel('Amplitude')\n",
        "plt.legend()\n",
        "#plt.savefig(path+'waveform_MSE.png', dpi=120)\n"
      ],
      "execution_count": 14,
      "outputs": [
        {
          "output_type": "execute_result",
          "data": {
            "text/plain": [
              "<matplotlib.legend.Legend at 0x7f6f9010b390>"
            ]
          },
          "metadata": {
            "tags": []
          },
          "execution_count": 14
        },
        {
          "output_type": "display_data",
          "data": {
            "image/png": "[encoded data removed]",
            "text/plain": [
              "<Figure size 432x288 with 1 Axes>"
            ]
          },
          "metadata": {
            "tags": [],
            "needs_background": "light"
          }
        }
      ]
    }
  ]
}